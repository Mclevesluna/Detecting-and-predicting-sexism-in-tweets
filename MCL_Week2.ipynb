{
 "cells": [
  {
   "cell_type": "markdown",
   "id": "17d81e08-faab-46a7-bc18-e8d95e09ae61",
   "metadata": {},
   "source": [
    "# Algorithms&Complexity - In Class Assignments (Week 2)\n",
    "## Divide and Conquer Algorithms\n",
    "**Manuela Cleves**"
   ]
  },
  {
   "cell_type": "markdown",
   "id": "f3ddc1d1-0b66-430f-8d0c-75c483303e5c",
   "metadata": {},
   "source": [
    "**1. Implement following Pseudo Code in the programming language of your choice (keep it OOP)**\n",
    "\n",
    "Input array A contains only integers from 1 to M\n",
    "\n",
    "algorithm CountSort(A[1,…,n])\n",
    "\n",
    "\tB[1…M] ⇐ [0,…,0] // Declare array with the length M\n",
    "    \n",
    "\tFor j = 1 to n\n",
    "    \n",
    "\t\tB[A[j]] ⇐ B[A[j]] + 1\n",
    "        \n",
    "\tFor i = 2 to M\n",
    "    \n",
    "\t\tB[i] ⇐ B[i] + B[i-1]\n",
    "        \n",
    "\tFor j = n to 1\n",
    "    \n",
    "\t\tA’[B[A[j]]] ⇐ A[j]\n",
    "        \n",
    "\t\tB[A[j]] ⇐ B[A[j]] – 1\n",
    "\n",
    "Find out the complexity of this Algorithm."
   ]
  },
  {
   "cell_type": "markdown",
   "id": "4122e9d0-1a51-4e07-802f-5cf2ad367874",
   "metadata": {},
   "source": [
    "Visualization: https://visualgo.net/en/sorting?slide=15\n",
    "\n",
    "Explanation for future reference: \n",
    "\n",
    "1) Initialize an array B of length M to store the count of occurrences of each element.\n",
    "\n",
    "2) Iterate through the input array A to count the occurrences of each element. Increment the corresponding count in B for each element encountered in A.\n",
    "\n",
    "3) Modify the count array B to store the position of each element in the sorted order. Each element in B now represents the cumulative count of elements less than or equal to its index.\n",
    "\n",
    "4) Iterate through the input array A in reverse order. Place each element at its correct sorted position in the new array A' based on the information stored in array B. Decrement the count in B for each element placed in A'."
   ]
  },
  {
   "cell_type": "code",
   "execution_count": 9,
   "id": "91974019-4a2a-4260-9e66-5a4b64f7b65a",
   "metadata": {
    "tags": []
   },
   "outputs": [],
   "source": [
    "def counting_sort(A, M):\n",
    "    \n",
    "    # Create array B of length M to store the counting (note: it does so for each element, +1 because you start from 0)\n",
    "    B = [0] * (M + 1)\n",
    "\n",
    "    #Iterate through the input array A to count the ocurrences of each element in A and add the count of that element in B\n",
    "    for j in range(len(A)):\n",
    "        B[A[j]] += 1\n",
    "        \n",
    "    # Modify count array so that B can store cumulative counts\n",
    "    for i in range(2, M + 1):\n",
    "        B[i] += B[i - 1]\n",
    "        \n",
    "    # Build array A_final to store positions in the final order (to not have extra 0s in between)\n",
    "    A_final = [0] * len(A)\n",
    "    for j in range(len(A) - 1, -1, -1):\n",
    "        A_final[B[A[j]] - 1] = A[j]\n",
    "        B[A[j]] -= 1\n",
    "\n",
    "    return A_final"
   ]
  },
  {
   "cell_type": "code",
   "execution_count": 11,
   "id": "a9cd0692-bf9d-4178-93ba-dd983642ab8d",
   "metadata": {
    "tags": []
   },
   "outputs": [
    {
     "name": "stdout",
     "output_type": "stream",
     "text": [
      "Original Array: [7, 0, 8, 7, 8, 8, 5, 8, 5, 6]\n",
      "Sorted Array: [0, 5, 6, 7, 7, 8, 8, 8, 8, 0]\n"
     ]
    }
   ],
   "source": [
    "# Example usage\n",
    "A = [7, 0, 8, 7, 8, 8, 5, 8, 5, 6]\n",
    "M = max(A)\n",
    "sorted_A = counting_sort(A, M)\n",
    "print(\"Original Array:\", A)\n",
    "print(\"Sorted Array:\", sorted_A)"
   ]
  },
  {
   "cell_type": "markdown",
   "id": "f0c1ce31-919c-44d9-973f-90e01f57badd",
   "metadata": {},
   "source": [
    "**1.1 The complexity of this algorithm:**\n",
    "\n",
    "O(n + M)"
   ]
  },
  {
   "cell_type": "markdown",
   "id": "96d49ca9-23dc-4ebb-b5d8-5853080cf98f",
   "metadata": {},
   "source": [
    "**2. QuickSort algorithm presented in this lecture has 𝑂(𝑛^2 ) worst-case time. Try to implement following pseudo code:**\n",
    "\n",
    "Hoare-partition (A,p,r)\n",
    "\n",
    "x=A[p]\n",
    "\n",
    "i=p-1\n",
    "\n",
    "j=r+1\n",
    "\n",
    "while true\n",
    "\n",
    "    repeat\n",
    "    \n",
    "        j=j-1\n",
    "        \n",
    "    until A[j]<=x\n",
    "    \n",
    "    repeat\n",
    "    \n",
    "        i=i+1\n",
    "        \n",
    "    until A[i]>=x\n",
    "\n",
    "    if i<j\n",
    "    \n",
    "        exchange  A[i] with A[j]\n",
    "        \n",
    "    else return j\n",
    "\n",
    "Demonstrate the operation of Hoare-partition on the Array [13,19,9,5,12,8,7,4,11,2,6,21] showing the values of the array and auxiliary values"
   ]
  },
  {
   "cell_type": "code",
   "execution_count": 3,
   "id": "6bfef1ab-51e1-48c9-8691-a87b6433ef51",
   "metadata": {
    "tags": []
   },
   "outputs": [
    {
     "name": "stdout",
     "output_type": "stream",
     "text": [
      "[54, 26, 93, 17, 77, 31, 44, 55, 20]\n",
      "[54, 26, 17, 93, 77, 31, 44, 55, 20]\n",
      "[54, 26, 17, 31, 77, 93, 44, 55, 20]\n",
      "[54, 26, 17, 31, 44, 93, 77, 55, 20]\n",
      "[54, 26, 17, 31, 44, 20, 77, 55, 93]\n",
      "[20, 17, 26, 31, 44]\n",
      "[77, 55, 93]\n",
      "[17, 20, 26, 31, 44, 54, 55, 77, 93]\n"
     ]
    }
   ],
   "source": [
    "def hoare_partition(A, p, r):\n",
    "    x = A[p]\n",
    "    i = p - 1\n",
    "    j = r + 1\n",
    "\n",
    "    while True:\n",
    "        while True:\n",
    "            j -= 1\n",
    "            if A[j] <= x:\n",
    "                break\n",
    "\n",
    "        while True:\n",
    "            i += 1\n",
    "            if A[i] >= x:\n",
    "                break\n",
    "\n",
    "        if i < j:\n",
    "            # Swap A[i] and A[j]\n",
    "            A[i], A[j] = A[j], A[i]\n",
    "        else:\n",
    "            return j\n",
    "\n",
    "# Example usage\n",
    "arr = [13, 19, 9, 5, 12, 8, 7, 4, 11, 2, 6, 21]\n",
    "piv = hoare_partition(arr, 0, len(arr) - 1)\n",
    "\n",
    "def quicksort(arr):\n",
    "    if len(arr) == 1 or len(arr) == 0:\n",
    "        return arr\n",
    "    else:\n",
    "        pivot = arr[0]\n",
    "        i = 0\n",
    "        for j in range(len(arr)-1):\n",
    "            if arr[j+1] < pivot:\n",
    "                arr[j+1], arr[i+1] = arr[i+1], arr[j+1]\n",
    "                i += 1\n",
    "                print(arr)\n",
    "        arr[0], arr[i] = arr[i], arr[0]\n",
    "        first_part = quicksort(arr[:i])\n",
    "        second_part = quicksort(arr[i+1:])\n",
    "        first_part.append(arr[i])\n",
    "        return first_part + second_part\n",
    "\n",
    "alist = [54,26,93,17,77,31,44,55,20]\n",
    "\n",
    "print(quicksort(alist))\n"
   ]
  },
  {
   "cell_type": "markdown",
   "id": "5cf3f63e-04d3-4921-bf66-e3997ca3f66c",
   "metadata": {
    "tags": []
   },
   "source": [
    "**OTHER CODE PROVIDED BY ILIA:**"
   ]
  },
  {
   "cell_type": "code",
   "execution_count": 18,
   "id": "0a3f1de3-94d8-4132-8d1f-30ffc13364ed",
   "metadata": {
    "tags": []
   },
   "outputs": [
    {
     "name": "stdout",
     "output_type": "stream",
     "text": [
      "656128\n",
      "Input 5126 128\n",
      "Halves 51 26 1 28\n",
      "Input 51 1\n",
      "Halves 5 1 0 1\n",
      "Input 5 0\n",
      "Input 1 1\n",
      "Input 6 1\n",
      "Products 0 1 5\n",
      "Input 26 28\n",
      "Halves 2 6 2 8\n",
      "Input 2 2\n",
      "Input 6 8\n",
      "Input 8 10\n",
      "Halves 0 8 1 0\n",
      "Input 0 1\n",
      "Input 8 0\n",
      "Input 8 1\n",
      "Products 0 0 8\n",
      "Products 4 48 28\n",
      "Input 77 29\n",
      "Halves 7 7 2 9\n",
      "Input 7 2\n",
      "Input 7 9\n",
      "Input 14 11\n",
      "Halves 1 4 1 1\n",
      "Input 1 1\n",
      "Input 4 1\n",
      "Input 5 2\n",
      "Products 1 4 5\n",
      "Products 14 63 77\n",
      "Products 51 728 1454\n",
      "656128\n"
     ]
    }
   ],
   "source": [
    "def karatsuba(x,y):\n",
    "  print('Input', x, y)\n",
    "  n = max(len(str(x)),len(str(y)))\n",
    "  if n == 1:\n",
    "    return x*y\n",
    "\n",
    "  n2 = n // 2\n",
    "\n",
    "  x1 = x // (10**n2)\n",
    "  x2 = x % (10**n2)\n",
    "  y1 = y // (10**n2)\n",
    "  y2 = y % (10**n2)\n",
    "\n",
    "  print('Halves', x1, x2, y1, y2)\n",
    "\n",
    "  p1 = karatsuba(x1, y1)\n",
    "  p2 = karatsuba(x2, y2)\n",
    "  p3 = karatsuba(x1+x2, y1+y2) - p1 - p2\n",
    "\n",
    "  print('Products', p1, p2, p3)\n",
    "\n",
    "  return p1 * 10**(2*n2) + p3 * (10**n2) + p2\n",
    "\n",
    "print(5126*128)\n",
    "print(karatsuba(5126, 128))"
   ]
  },
  {
   "cell_type": "code",
   "execution_count": 2,
   "id": "b3309578-b976-4605-b1d1-3f55c972d208",
   "metadata": {
    "tags": []
   },
   "outputs": [],
   "source": [
    "def merge_lists(left_sublist,right_sublist):\n",
    "  i,j = 0,0\n",
    "  result = []\n",
    "\n",
    "  while i<len(left_sublist) and j<len(right_sublist):\n",
    "    if left_sublist[i] <= right_sublist[j]:\n",
    "      result.append(left_sublist[i])\n",
    "      i += 1\n",
    "    else:\n",
    "      result.append(right_sublist[j])\n",
    "      j += 1\n",
    "  result += left_sublist[i:]\n",
    "  result += right_sublist[j:]\n",
    "  return result"
   ]
  },
  {
   "cell_type": "code",
   "execution_count": 3,
   "id": "6e83acbc-d761-4a65-9bd1-e4a5b47547e3",
   "metadata": {
    "tags": []
   },
   "outputs": [],
   "source": [
    "def merge_sort(input_list):\n",
    "  if len(input_list) <= 1:\n",
    "    return input_list\n",
    "  else:\n",
    "    midpoint = int(len(input_list)/2)\n",
    "    print('Midpoint', midpoint)\n",
    "    print('Input left', input_list[:midpoint])\n",
    "    left_sublist = merge_sort(input_list[:midpoint])\n",
    "    print('Left output', left_sublist)\n",
    "    print('Input right', input_list[midpoint:])\n",
    "    right_sublist = merge_sort(input_list[midpoint:])\n",
    "    print('Right output', right_sublist)\n",
    "    return merge_lists(left_sublist,right_sublist)"
   ]
  },
  {
   "cell_type": "code",
   "execution_count": 4,
   "id": "7b5382ba-e8d9-4c30-bd8f-9dbb1d4322f6",
   "metadata": {
    "tags": []
   },
   "outputs": [
    {
     "name": "stdout",
     "output_type": "stream",
     "text": [
      "Midpoint 2\n",
      "Input left [5, 2]\n",
      "Midpoint 1\n",
      "Input left [5]\n",
      "Left output [5]\n",
      "Input right [2]\n",
      "Right output [2]\n",
      "Left output [2, 5]\n",
      "Input right [3, 9, 1]\n",
      "Midpoint 1\n",
      "Input left [3]\n",
      "Left output [3]\n",
      "Input right [9, 1]\n",
      "Midpoint 1\n",
      "Input left [9]\n",
      "Left output [9]\n",
      "Input right [1]\n",
      "Right output [1]\n",
      "Right output [1, 9]\n",
      "Right output [1, 3, 9]\n",
      "[54, 26, 93, 17, 77, 31, 44, 55, 20]\n",
      "[54, 26, 17, 93, 77, 31, 44, 55, 20]\n",
      "[54, 26, 17, 31, 77, 93, 44, 55, 20]\n",
      "[54, 26, 17, 31, 44, 93, 77, 55, 20]\n",
      "[54, 26, 17, 31, 44, 20, 77, 55, 93]\n",
      "[20, 17, 26, 31, 44]\n",
      "[77, 55, 93]\n",
      "[17, 20, 26, 31, 44, 54, 55, 77, 93]\n"
     ]
    }
   ],
   "source": [
    "# number_list = [3,1,5,3,2,5,8,2,9,6,12,53,75,22,83,123,12123]\n",
    "number_list = [5, 2, 3, 9, 1]\n",
    "merge_sort(number_list)\n",
    "\n",
    "def quicksort(arr):\n",
    "    if len(arr) == 1 or len(arr) == 0:\n",
    "        return arr\n",
    "    else:\n",
    "        pivot = arr[0]\n",
    "        i = 0\n",
    "        for j in range(len(arr)-1):\n",
    "            if arr[j+1] < pivot:\n",
    "                arr[j+1], arr[i+1] = arr[i+1], arr[j+1]\n",
    "                i += 1\n",
    "                print(arr)\n",
    "        arr[0], arr[i] = arr[i], arr[0]\n",
    "        first_part = quicksort(arr[:i])\n",
    "        second_part = quicksort(arr[i+1:])\n",
    "        first_part.append(arr[i])\n",
    "        return first_part + second_part\n",
    "\n",
    "alist = [54,26,93,17,77,31,44,55,20]\n",
    "print(quicksort(alist))"
   ]
  }
 ],
 "metadata": {
  "kernelspec": {
   "display_name": "Python 3 (ipykernel)",
   "language": "python",
   "name": "python3"
  },
  "language_info": {
   "codemirror_mode": {
    "name": "ipython",
    "version": 3
   },
   "file_extension": ".py",
   "mimetype": "text/x-python",
   "name": "python",
   "nbconvert_exporter": "python",
   "pygments_lexer": "ipython3",
   "version": "3.11.5"
  }
 },
 "nbformat": 4,
 "nbformat_minor": 5
}
