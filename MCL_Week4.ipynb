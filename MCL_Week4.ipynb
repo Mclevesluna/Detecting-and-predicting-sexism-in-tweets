{
 "cells": [
  {
   "cell_type": "markdown",
   "id": "eb54800b-e60c-4e97-8ea5-ed4e5661df61",
   "metadata": {
    "tags": []
   },
   "source": [
    "# Algorithms&Complexity - In Class Assignments (Week 4)\n",
    "## Randomized and Online Algorithms\n",
    "**Manuela Cleves**"
   ]
  },
  {
   "cell_type": "markdown",
   "id": "aa3e5808-8dd9-42f9-b548-c067ea8ad250",
   "metadata": {},
   "source": [
    "**1. Karger’s min-cut Algorithm**\n",
    "**Input:** Connected, undirected, unweighted graph 𝐺=(𝑉,𝐸).\n",
    "\n",
    "**Output:** Smallest list of edges, which if removed will cut 𝐺 in two.\n",
    "\n",
    "**Algorithm:**\n",
    "1) Select a random edge.\n",
    "2) Remove this edge and merge its nodes into one node.\n",
    "3) Remove any cycles, if present\n",
    "4) Repeat 1-3 until only one edge remains.\n",
    "\n",
    "**Note:**\n",
    "This is a Monte-Carlo algorithm, so…?"
   ]
  },
  {
   "cell_type": "markdown",
   "id": "e6e6e1b8-c587-42e1-9c17-6e966256e780",
   "metadata": {},
   "source": [
    "**Notes on Monte-Carlo algorithms:**\n",
    "- Algorithms of this type can output a wrong answer.\n",
    "- They have a bounded runtime.\n",
    "- By running this algorithm multiple times, we can decrease the chance of an incorrect solution. \n",
    "- If our algorithm is of 1-side error type the following relation is true:\n",
    "(1−𝑝)^𝑡≤𝑒^(−𝑝𝑡).\n",
    "- If we ran our algorithm 10 times, we would get an error probability of 𝑒^(−10)."
   ]
  },
  {
   "cell_type": "code",
   "execution_count": null,
   "id": "79f50842-d086-4f43-a6e1-2e5fd8580841",
   "metadata": {
    "tags": []
   },
   "outputs": [],
   "source": [
    "import random\n",
    "\n",
    "def min_cut(graph):\n",
    "    while len(graph) > 1:\n",
    "        # Select a random edge - randomness because it's monte carlo\n",
    "        edge = random.choice([(node, neighbor) for node in graph for neighbor in graph[node]])\n",
    "\n",
    "        # Remove that edge\n",
    "        n1, n2 = edge\n",
    "        if n2 not in graph:\n",
    "            continue  # Skip this iteration if n2 is not in the graph\n",
    "        graph[n1].extend(graph[n2])\n",
    "        del graph[n2]\n",
    "\n",
    "        # Merge nodes and remove cycles (step 3)\n",
    "        graph[n1] = list(set(graph[n1]))\n",
    "        graph[n1] = [node for node in graph[n1] if node != n1 and node not in graph]\n",
    "\n",
    "    return list(graph.keys())[0]\n",
    "\n",
    "# Example usage\n",
    "graph = {\n",
    "    'A': ['B', 'C'],\n",
    "    'B': ['A', 'C', 'D'],\n",
    "    'C': ['A', 'B', 'D'],\n",
    "    'D': ['B', 'C']\n",
    "}\n",
    "\n",
    "min_cut_result = min_cut(graph)\n",
    "\n",
    "\n",
    "#Because it's monte carlo, we might not get the correct answer! - should I run multiple times?\n",
    "print(\"Smallest list of edges to cut the graph:\", min_cut_result)"
   ]
  },
  {
   "cell_type": "markdown",
   "id": "d949dfd7-ad04-4dc5-8af3-47cc86f92fcd",
   "metadata": {},
   "source": [
    "**2. Input: Randomly generate integers from 0 to 9, as inputs**.\n",
    "\n",
    "Implement FIFO and LRU algorithms.\n",
    "Test them for 1000 inputs and allow the user to choose their desired cache size.\n",
    "Track the process of your algorithm by copying the state of your cache into a list."
   ]
  },
  {
   "cell_type": "code",
   "execution_count": 4,
   "id": "2937d6e2-9e18-4a37-84cc-3e20c44c5fb0",
   "metadata": {
    "tags": []
   },
   "outputs": [
    {
     "name": "stdin",
     "output_type": "stream",
     "text": [
      "Enter the cache size:  1000\n"
     ]
    },
    {
     "name": "stdout",
     "output_type": "stream",
     "text": [
      "FIFO Cache States:\n",
      "[5, 6, 8, 2, 4, 0, 3, 9, 7, 1]\n",
      "[5, 6, 8, 2, 4, 0, 3, 9, 7, 1]\n",
      "[5, 6, 8, 2, 4, 0, 3, 9, 7, 1]\n",
      "[5, 6, 8, 2, 4, 0, 3, 9, 7, 1]\n",
      "[5, 6, 8, 2, 4, 0, 3, 9, 7, 1]\n",
      "\n",
      "LRU Cache States:\n",
      "[1, 7, 2, 9, 8, 0, 4, 5, 6, 3]\n",
      "[1, 7, 2, 9, 8, 4, 5, 6, 3, 0]\n",
      "[1, 7, 2, 9, 8, 4, 5, 3, 0, 6]\n",
      "[1, 7, 2, 9, 8, 4, 5, 3, 6, 0]\n",
      "[1, 7, 2, 9, 8, 5, 3, 6, 0, 4]\n"
     ]
    }
   ],
   "source": [
    "def fifo_cache(inputs, cache_size):\n",
    "    cache = []\n",
    "    cache_states = []\n",
    "\n",
    "    # Of all inputs in the cache array, remove the oldest element (First \"out\")\n",
    "    for input_value in inputs:\n",
    "        if input_value not in cache:\n",
    "            if len(cache) == cache_size:\n",
    "                cache.pop(0)  \n",
    "            cache.append(input_value)\n",
    "        # Save the state of the cache   \n",
    "        cache_states.append(list(cache))  \n",
    "\n",
    "    return cache_states\n",
    "\n",
    "def lru_cache(inputs, cache_size):\n",
    "    cache = []\n",
    "    cache_states = []\n",
    "\n",
    "    #Of all inputs, we will remove those already in cache\n",
    "    for input_value in inputs:\n",
    "        if input_value in cache:\n",
    "            cache.remove(input_value) \n",
    "        # We will also remove least recently used\n",
    "        elif len(cache) == cache_size:\n",
    "            cache.pop(0)  \n",
    "        cache.append(input_value)\n",
    "        # Save the state of the cache   \n",
    "        cache_states.append(list(cache))\n",
    "\n",
    "    return cache_states\n",
    "\n",
    "# Randomly generate 1000 inputs\n",
    "inputs = [random.randint(0, 9) for _ in range(1000)]\n",
    "\n",
    "# Allow the choosing the cache size\n",
    "cache_size = int(input(\"Enter the cache size: \"))\n",
    "\n",
    "# Run FIFO algorithm and track cache states\n",
    "fifo_states = fifo_cache(inputs, cache_size)\n",
    "\n",
    "# Run LRU algorithm and track cache states\n",
    "lru_states = lru_cache(inputs, cache_size)\n",
    "\n",
    "# Display the final cache states\n",
    "print(\"FIFO Cache States:\")\n",
    "for state in fifo_states[-5:]:  # Display the last 5 states for brevity\n",
    "    print(state)\n",
    "\n",
    "print(\"\\nLRU Cache States:\")\n",
    "for state in lru_states[-5:]:  # Display the last 5 states for brevity\n",
    "    print(state)\n"
   ]
  },
  {
   "cell_type": "code",
   "execution_count": null,
   "id": "bf3a14b3-02d1-4515-a900-e1c8902eb372",
   "metadata": {},
   "outputs": [],
   "source": []
  },
  {
   "cell_type": "markdown",
   "id": "73aded38-18a7-4efc-9bf4-11e5cdad3ac1",
   "metadata": {},
   "source": [
    "**Other code used in class with Ilia (NOT for grading):**"
   ]
  },
  {
   "cell_type": "code",
   "execution_count": null,
   "id": "9e59c1df-fb3f-44ba-843a-df1b1c6ddf0e",
   "metadata": {
    "tags": []
   },
   "outputs": [],
   "source": [
    "import numpy as np\n",
    "\n",
    "#Create matrices\n",
    "A = [[1,2],[3,4]]\n",
    "B = [[1,2],[3,4]]\n",
    "#C = [[1,3], [2,5]]\n",
    "\n",
    "r =[]\n",
    "\n",
    "# Generate a random column vector of size N*1, the first 2 is telling me that I want a range from 0 to 1\n",
    "N = len(A)\n",
    "print (result)\n",
    "\n",
    "#Create function that multiplies matrixes\n",
    "\n",
    "def multimatrix(A,B):\n",
    "    result = []\n",
    "    for i in range(len(A)):\n",
    "\n",
    "        row = []\n",
    "        for j in range(len(B[0])):\n",
    "\n",
    "            product = 0\n",
    "            for v in range(len(A[i])):\n",
    "                product += A[i][v] * B[v][j]\n",
    "            row.append(product)\n",
    "\n",
    "        result.append(row)\n",
    "    return result"
   ]
  },
  {
   "cell_type": "code",
   "execution_count": null,
   "id": "548f320f-02a7-47e8-811f-4b2e012e17ec",
   "metadata": {
    "tags": []
   },
   "outputs": [],
   "source": [
    "# C = multimatrix(A,B)\n",
    "C = [[0,0], [0,0]]"
   ]
  },
  {
   "cell_type": "code",
   "execution_count": null,
   "id": "0d57de28-2483-4045-b0b0-d5b296d7bd35",
   "metadata": {
    "tags": []
   },
   "outputs": [],
   "source": [
    "C_false = [[1,2],[3,4]]"
   ]
  },
  {
   "cell_type": "code",
   "execution_count": null,
   "id": "02dfee4b-931b-49d4-aa13-67d47c7662ac",
   "metadata": {
    "tags": []
   },
   "outputs": [],
   "source": [
    "#Check if this is correct (#Calculate P=Ax(B*r)-(C*r), you repeat this many times to reduce the error from 0.5% to 0.5**k\n",
    "\n",
    "for i in range(10):\n",
    "   R = np.random.randint(2, size=(N, 1))\n",
    "   Step2=multimatrix(B,R)\n",
    "   Step3=multimatrix(C,R)\n",
    "   Step1=multimatrix(A,Step2)\n",
    "   P=np.array(Step1)-np.array(Step3)\n",
    "\n",
    "   if sum(P)==0:\n",
    "      print(True)\n",
    "   else:\n",
    "      print(False)"
   ]
  },
  {
   "cell_type": "code",
   "execution_count": null,
   "id": "8438a40a-4bae-4d5d-8fc3-dac2823e2b36",
   "metadata": {
    "tags": []
   },
   "outputs": [],
   "source": [
    "Step3"
   ]
  },
  {
   "cell_type": "code",
   "execution_count": null,
   "id": "4fb0f553-626a-4438-9d6b-4ef34e2aa233",
   "metadata": {
    "tags": []
   },
   "outputs": [],
   "source": [
    "C"
   ]
  },
  {
   "cell_type": "code",
   "execution_count": null,
   "id": "cb9f1956-4c7d-4ad8-af6e-1715221384c0",
   "metadata": {},
   "outputs": [],
   "source": []
  },
  {
   "cell_type": "code",
   "execution_count": null,
   "id": "b751202c-390a-4ec1-899c-88d514534fc0",
   "metadata": {},
   "outputs": [],
   "source": [
    "#Randomly shuffle values in an array until the correct order is achieve (shuffle while in the incorrect order and check order of array)"
   ]
  },
  {
   "cell_type": "code",
   "execution_count": null,
   "id": "722b3489-2156-45dc-b59e-acbae4ab94cc",
   "metadata": {
    "tags": []
   },
   "outputs": [],
   "source": [
    "#Create an array - this you did worng, you were maybe supposed to sort it (so first sort it and then say that it will shuffle until sorted)\n",
    "#But that is not efficient, so quick sort is better\n",
    "\n",
    "arr=[[3],[4],[1],[2],[3]]\n",
    "copyarr=[[3],[4],[1],[2],[3]]\n",
    "#Shuffle the array\n",
    "import random\n",
    "random.shuffle(arr)\n",
    "print(arr)\n",
    "\n",
    "while arr != copyarr:\n",
    "    random.shuffle(arr)\n",
    "    print(arr)"
   ]
  },
  {
   "cell_type": "code",
   "execution_count": null,
   "id": "dcc30694-6247-49d8-8e64-a5873e3741fc",
   "metadata": {
    "tags": []
   },
   "outputs": [],
   "source": [
    "#This is a deterministic quicksort, so now try to shuffle it (it is always correct so it is LA algorithm. \n",
    "#FIX, BEST TO NOT USE TEMPLATE CODE, you would have to track all the smallest numbers as a seperate array, equal numbers also seperate list bug as well\n",
    "#That would be the split, so we call quicksort on the smallest, and the largest, we don't touch our equal(call the random pivot for smallest and largest within function and do it agaoian and again) \n",
    "\n",
    "def quicksort(arr):\n",
    "    if len(arr) == 1 or len(arr) == 0:\n",
    "        return arr\n",
    "    else:\n",
    "        pivot = arr[0]\n",
    "        i = 0\n",
    "        for j in range(len(arr)-1):\n",
    "            if arr[j+1] < pivot:\n",
    "                arr[j+1], arr[i+1] = arr[i+1], arr[j+1]\n",
    "                i += 1\n",
    "                print(arr)\n",
    "        arr[0], arr[i] = arr[i], arr[0]#restructure arr to have allthesamllest values to the left\n",
    "        first_part = quicksort(arr[:i])#all the smallest values to the left (before pivot) and largest to the right and so \"i\" would be the pivot)\n",
    "        second_part = quicksort(arr[i+1:])\n",
    "        first_part.append(arr[i])\n",
    "        return first_part + second_part\n",
    "\n",
    "alist = [54,26,93,17,77,31,44,55,20]\n",
    "print(quicksort(alist))\n"
   ]
  },
  {
   "cell_type": "code",
   "execution_count": null,
   "id": "4151898a-d6ae-4226-a999-727e7147cbbb",
   "metadata": {},
   "outputs": [],
   "source": []
  }
 ],
 "metadata": {
  "kernelspec": {
   "display_name": "Python 3 (ipykernel)",
   "language": "python",
   "name": "python3"
  },
  "language_info": {
   "codemirror_mode": {
    "name": "ipython",
    "version": 3
   },
   "file_extension": ".py",
   "mimetype": "text/x-python",
   "name": "python",
   "nbconvert_exporter": "python",
   "pygments_lexer": "ipython3",
   "version": "3.11.5"
  }
 },
 "nbformat": 4,
 "nbformat_minor": 5
}
