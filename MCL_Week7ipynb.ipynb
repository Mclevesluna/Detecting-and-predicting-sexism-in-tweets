{
 "cells": [
  {
   "cell_type": "markdown",
   "id": "a613cea0-efeb-4a6a-b6ed-5d3f334a5db4",
   "metadata": {},
   "source": [
    "# Algorithms&Complexity - In Class Assignments (Week 7)\n",
    "**Manuela Cleves**"
   ]
  },
  {
   "cell_type": "markdown",
   "id": "a04e2d17-7c2f-4c1d-983f-1ae58b338c6c",
   "metadata": {},
   "source": [
    "**1. Implement a Markov chain working with whole words instead of letters.**\n",
    "Leave the number of words in a sequence as an adjustable parameter, but due to memory limitations keep it at two.\n",
    "Example: k=2 “word1 word2” as one of the possible sequences.\n",
    "To test your implementation, you can use a smaller text.\n",
    "If you want, you can try to use something larger as an input text (a small book).\n",
    "Hint: Use a sparse dictionary from scipy.sparse.dok_matrix"
   ]
  },
  {
   "cell_type": "markdown",
   "id": "7f4e8863-6bef-4d96-baeb-8aa9de74408a",
   "metadata": {},
   "source": [
    "Tips from Ilia\n",
    "def create_markov_chain(states, transition_matrix):\n",
    "    \"\"\"\n",
    "    Create a Markov chain.\n",
    "\n",
    "    Parameters:\n",
    "    - states: List of states in the Markov chain.\n",
    "    - transition_matrix: Dictionary representing transition probabilities.\n",
    "\n",
    "    Returns:\n",
    "    - A function that simulates the Markov chain.\n",
    "    \"\"\"\n",
    "    "
   ]
  },
  {
   "cell_type": "code",
   "execution_count": 1,
   "id": "f0162160-5d7d-437a-b776-50c2ce9e7e1c",
   "metadata": {
    "tags": []
   },
   "outputs": [
    {
     "name": "stderr",
     "output_type": "stream",
     "text": [
      "[nltk_data] Downloading package punkt to\n",
      "[nltk_data]     /Users/mclevesluna/nltk_data...\n",
      "[nltk_data]   Package punkt is already up-to-date!\n"
     ]
    },
    {
     "data": {
      "text/plain": [
       "True"
      ]
     },
     "execution_count": 1,
     "metadata": {},
     "output_type": "execute_result"
    }
   ],
   "source": [
    "import random\n",
    "import nltk\n",
    "nltk.download('punkt')"
   ]
  },
  {
   "cell_type": "code",
   "execution_count": 2,
   "id": "492cd871-6976-4f9e-a613-bcb05e24eadd",
   "metadata": {
    "tags": []
   },
   "outputs": [
    {
     "name": "stdout",
     "output_type": "stream",
     "text": [
      "['woman', 'for', 'a', 'long', 'time', 'beware', 'my', 'divinities', 'who', 'am', 'woman', 'for', 'a', 'long', 'time', 'beware', 'my', 'magic', 'and', 'if']\n"
     ]
    }
   ],
   "source": [
    "from collections import defaultdict\n",
    "from nltk.tokenize import word_tokenize\n",
    "import random\n",
    "\n",
    "def preprocess_text(text):\n",
    "\n",
    "    #Preprocess the text by tokenizing and converting to lowercase\n",
    "    tokens = word_tokenize(text.lower())\n",
    "    return tokens\n",
    "\n",
    "def create_markov_chain(states, text):\n",
    "\n",
    "    transition_matrix = defaultdict(dict)\n",
    "\n",
    "    for i in range(len(text) - 1):\n",
    "        current_state = text[i]\n",
    "        next_state = text[i + 1]\n",
    "\n",
    "        if next_state not in transition_matrix[current_state]:\n",
    "            transition_matrix[current_state][next_state] = 1\n",
    "        else:\n",
    "            transition_matrix[current_state][next_state] += 1\n",
    "\n",
    "    # Normalize transition probabilities\n",
    "    for state in transition_matrix:\n",
    "        total_transitions = sum(transition_matrix[state].values())\n",
    "        for next_state in transition_matrix[state]:\n",
    "            transition_matrix[state][next_state] /= total_transitions\n",
    "\n",
    "    return lambda num_words, seed_word: simulate_chain(num_words, seed_word, transition_matrix)\n",
    "\n",
    "#Simulate the Markov chain and generate a sequence of words.\n",
    "def simulate_chain(num_words, seed_word, transition_matrix):\n",
    "\n",
    "    current_word = seed_word\n",
    "    generated_sequence = [current_word]\n",
    "\n",
    "    for _ in range(num_words - 1):\n",
    "        if current_word in transition_matrix:\n",
    "            next_word = random.choices(\n",
    "                list(transition_matrix[current_word].keys()),\n",
    "                weights=list(transition_matrix[current_word].values())\n",
    "            )[0]\n",
    "            generated_sequence.append(next_word)\n",
    "            current_word = next_word\n",
    "        else:\n",
    "            break\n",
    "\n",
    "    return generated_sequence\n",
    "\n",
    "# Audre Lorde's poem\n",
    "poem = \"\"\"\n",
    "Moon marked and touched by sun   \n",
    "my magic is unwritten\n",
    "but when the sea turns back\n",
    "it will leave my shape behind.   \n",
    "I seek no favor\n",
    "untouched by blood\n",
    "unrelenting as the curse of love   \n",
    "permanent as my errors\n",
    "or my pride\n",
    "I do not mix\n",
    "love with pity\n",
    "nor hate with scorn\n",
    "and if you would know me\n",
    "look into the entrails of Uranus   \n",
    "where the restless oceans pound.\n",
    "\n",
    "I do not dwell\n",
    "within my birth nor my divinities   \n",
    "who am ageless and half-grown   \n",
    "and still seeking\n",
    "my sisters\n",
    "witches in Dahomey\n",
    "wear me inside their coiled cloths   \n",
    "as our mother did\n",
    "mourning.\n",
    "\n",
    "I have been woman\n",
    "for a long time\n",
    "beware my smile\n",
    "I am treacherous with old magic   \n",
    "and the noon's new fury\n",
    "with all your wide futures   \n",
    "promised\n",
    "I am\n",
    "woman\n",
    "and not white.\n",
    "\"\"\"\n",
    "\n",
    "# Preprocess the text\n",
    "preprocessed_text = preprocess_text(poem)\n",
    "\n",
    "# Create the list of states\n",
    "states = list(set(preprocessed_text))\n",
    "\n",
    "# Create the Markov chain function\n",
    "markov_chain = create_markov_chain(states, preprocessed_text)\n",
    "\n",
    "# Simulate the Markov chain with a seed word and generate a sequence of words\n",
    "generated_sequence = markov_chain(num_words=20, seed_word='woman')\n",
    "print(generated_sequence)\n"
   ]
  },
  {
   "cell_type": "code",
   "execution_count": null,
   "id": "2eb7f0c5-75ed-4ffc-ab06-ba1c34fc2b62",
   "metadata": {},
   "outputs": [],
   "source": []
  },
  {
   "cell_type": "markdown",
   "id": "5bed2781-72cd-4365-8fbd-78c6c1bf5653",
   "metadata": {},
   "source": [
    "**Other code used in class (NOT for grading)**"
   ]
  },
  {
   "cell_type": "markdown",
   "id": "d3522a6a-6298-44ea-8a5b-b8b4d72d9374",
   "metadata": {
    "tags": []
   },
   "source": [
    "**Regression demonstration**"
   ]
  },
  {
   "cell_type": "code",
   "execution_count": 1,
   "id": "37451589-55a5-4c69-8f57-3179474632b4",
   "metadata": {
    "tags": []
   },
   "outputs": [],
   "source": [
    "#import libraries\n",
    "\n",
    "import csv\n",
    "import numpy as np\n",
    "import matplotlib.pyplot as plt\n",
    "import pandas as pd\n",
    "import statsmodels.api as sm\n",
    "import statsmodels.formula.api as smf"
   ]
  },
  {
   "cell_type": "code",
   "execution_count": 2,
   "id": "cf720d3c-6f4d-4d96-b087-0686eec27d29",
   "metadata": {
    "tags": []
   },
   "outputs": [
    {
     "data": {
      "text/html": [
       "<div>\n",
       "<style scoped>\n",
       "    .dataframe tbody tr th:only-of-type {\n",
       "        vertical-align: middle;\n",
       "    }\n",
       "\n",
       "    .dataframe tbody tr th {\n",
       "        vertical-align: top;\n",
       "    }\n",
       "\n",
       "    .dataframe thead th {\n",
       "        text-align: right;\n",
       "    }\n",
       "</style>\n",
       "<table border=\"1\" class=\"dataframe\">\n",
       "  <thead>\n",
       "    <tr style=\"text-align: right;\">\n",
       "      <th></th>\n",
       "      <th>price</th>\n",
       "      <th>area</th>\n",
       "      <th>bedrooms</th>\n",
       "      <th>bathrooms</th>\n",
       "      <th>stories</th>\n",
       "      <th>mainroad</th>\n",
       "      <th>guestroom</th>\n",
       "      <th>basement</th>\n",
       "      <th>hotwaterheating</th>\n",
       "      <th>airconditioning</th>\n",
       "      <th>parking</th>\n",
       "      <th>prefarea</th>\n",
       "      <th>furnishingstatus</th>\n",
       "    </tr>\n",
       "  </thead>\n",
       "  <tbody>\n",
       "    <tr>\n",
       "      <th>0</th>\n",
       "      <td>13300000</td>\n",
       "      <td>7420</td>\n",
       "      <td>4</td>\n",
       "      <td>2</td>\n",
       "      <td>3</td>\n",
       "      <td>yes</td>\n",
       "      <td>no</td>\n",
       "      <td>no</td>\n",
       "      <td>no</td>\n",
       "      <td>yes</td>\n",
       "      <td>2</td>\n",
       "      <td>yes</td>\n",
       "      <td>furnished</td>\n",
       "    </tr>\n",
       "    <tr>\n",
       "      <th>1</th>\n",
       "      <td>12250000</td>\n",
       "      <td>8960</td>\n",
       "      <td>4</td>\n",
       "      <td>4</td>\n",
       "      <td>4</td>\n",
       "      <td>yes</td>\n",
       "      <td>no</td>\n",
       "      <td>no</td>\n",
       "      <td>no</td>\n",
       "      <td>yes</td>\n",
       "      <td>3</td>\n",
       "      <td>no</td>\n",
       "      <td>furnished</td>\n",
       "    </tr>\n",
       "    <tr>\n",
       "      <th>2</th>\n",
       "      <td>12250000</td>\n",
       "      <td>9960</td>\n",
       "      <td>3</td>\n",
       "      <td>2</td>\n",
       "      <td>2</td>\n",
       "      <td>yes</td>\n",
       "      <td>no</td>\n",
       "      <td>yes</td>\n",
       "      <td>no</td>\n",
       "      <td>no</td>\n",
       "      <td>2</td>\n",
       "      <td>yes</td>\n",
       "      <td>semi-furnished</td>\n",
       "    </tr>\n",
       "    <tr>\n",
       "      <th>3</th>\n",
       "      <td>12215000</td>\n",
       "      <td>7500</td>\n",
       "      <td>4</td>\n",
       "      <td>2</td>\n",
       "      <td>2</td>\n",
       "      <td>yes</td>\n",
       "      <td>no</td>\n",
       "      <td>yes</td>\n",
       "      <td>no</td>\n",
       "      <td>yes</td>\n",
       "      <td>3</td>\n",
       "      <td>yes</td>\n",
       "      <td>furnished</td>\n",
       "    </tr>\n",
       "    <tr>\n",
       "      <th>4</th>\n",
       "      <td>11410000</td>\n",
       "      <td>7420</td>\n",
       "      <td>4</td>\n",
       "      <td>1</td>\n",
       "      <td>2</td>\n",
       "      <td>yes</td>\n",
       "      <td>yes</td>\n",
       "      <td>yes</td>\n",
       "      <td>no</td>\n",
       "      <td>yes</td>\n",
       "      <td>2</td>\n",
       "      <td>no</td>\n",
       "      <td>furnished</td>\n",
       "    </tr>\n",
       "  </tbody>\n",
       "</table>\n",
       "</div>"
      ],
      "text/plain": [
       "      price  area  bedrooms  bathrooms  stories mainroad guestroom basement  \\\n",
       "0  13300000  7420         4          2        3      yes        no       no   \n",
       "1  12250000  8960         4          4        4      yes        no       no   \n",
       "2  12250000  9960         3          2        2      yes        no      yes   \n",
       "3  12215000  7500         4          2        2      yes        no      yes   \n",
       "4  11410000  7420         4          1        2      yes       yes      yes   \n",
       "\n",
       "  hotwaterheating airconditioning  parking prefarea furnishingstatus  \n",
       "0              no             yes        2      yes        furnished  \n",
       "1              no             yes        3       no        furnished  \n",
       "2              no              no        2      yes   semi-furnished  \n",
       "3              no             yes        3      yes        furnished  \n",
       "4              no             yes        2       no        furnished  "
      ]
     },
     "execution_count": 2,
     "metadata": {},
     "output_type": "execute_result"
    }
   ],
   "source": [
    "#import data\n",
    "\n",
    "file_name = 'Documents/Algoritms&Complexity/Week 7/Housing.csv'\n",
    "df = pd.read_csv(file_name, encoding='utf-8')\n",
    "df.head()"
   ]
  },
  {
   "cell_type": "code",
   "execution_count": 3,
   "id": "9cad4415-7362-463b-8abb-5072c5c83fb3",
   "metadata": {
    "tags": []
   },
   "outputs": [
    {
     "data": {
      "image/png": "[encoded data removed]",
      "text/plain": [
       "<Figure size 640x480 with 1 Axes>"
      ]
     },
     "metadata": {},
     "output_type": "display_data"
    }
   ],
   "source": [
    "# Plot the scatter plot in 2D\n",
    "\n",
    "area = df['area'].to_numpy() #/ 1000\n",
    "price = df['price'].to_numpy() #/ 1e6\n",
    "def line(b1, b2, x):\n",
    "    y = b1 + b2*x\n",
    "    return y\n",
    "fig, ax = plt.subplots()\n",
    "ax.scatter(area, price, c =\"blue\")\n",
    "x = np.array([min(area), max(area)])\n",
    "y = line(0, 1000, x)\n",
    "plt.plot([x[0], x[-1]], [y[0], y[-1]], marker = 'o')\n",
    "plt.show()"
   ]
  },
  {
   "cell_type": "code",
   "execution_count": 4,
   "id": "76f9d367-e848-43f2-bab0-6c503ede00a1",
   "metadata": {
    "tags": []
   },
   "outputs": [
    {
     "data": {
      "image/png": "[encoded data removed]",
      "text/plain": [
       "<Figure size 640x480 with 1 Axes>"
      ]
     },
     "metadata": {},
     "output_type": "display_data"
    }
   ],
   "source": [
    "# Plot the scatter plot in 3D\n",
    "\n",
    "df = sm.datasets.get_rdataset('trees').data\n",
    "df.head()\n",
    "girth = df['Girth'].to_numpy()\n",
    "height = df['Height'].to_numpy()\n",
    "volume = df['Volume'].to_numpy()\n",
    "X = np.stack([np.ones(31), girth, height], axis=1)\n",
    "B = np.linalg.inv(np.dot(X.T,X))\n",
    "B = np.dot(B,X.T)\n",
    "B = np.dot(B,volume)\n",
    "def line_3d(b, x):\n",
    "    y = np.dot(x, b)\n",
    "    return y\n",
    "fig = plt.figure()\n",
    "ax = fig.add_subplot(projection='3d')\n",
    "ax.scatter(girth, height, volume, c =\"blue\")\n",
    "y = line_3d(B, X)\n",
    "plt.plot([girth[0], girth[-1]], [height[0], height[-1]], [y[0], y[-1]], marker = 'o')\n",
    "plt.show()"
   ]
  },
  {
   "cell_type": "markdown",
   "id": "243b15f8-1728-4f60-b123-7f897d09fe12",
   "metadata": {},
   "source": [
    "**1. Molusc task**"
   ]
  },
  {
   "cell_type": "code",
   "execution_count": 8,
   "id": "7a121780-cfb4-4a7e-bb86-2077757d66a1",
   "metadata": {
    "tags": []
   },
   "outputs": [],
   "source": [
    "from ucimlrepo import fetch_ucirepo \n",
    "  \n",
    "# fetch dataset \n",
    "abalone = fetch_ucirepo(id=1)  #id=186\n",
    "abalone = abalone.data.features \n"
   ]
  },
  {
   "cell_type": "code",
   "execution_count": 9,
   "id": "ddd73319-d816-4f82-95e2-8e305613ed91",
   "metadata": {
    "tags": []
   },
   "outputs": [
    {
     "data": {
      "text/html": [
       "<div>\n",
       "<style scoped>\n",
       "    .dataframe tbody tr th:only-of-type {\n",
       "        vertical-align: middle;\n",
       "    }\n",
       "\n",
       "    .dataframe tbody tr th {\n",
       "        vertical-align: top;\n",
       "    }\n",
       "\n",
       "    .dataframe thead th {\n",
       "        text-align: right;\n",
       "    }\n",
       "</style>\n",
       "<table border=\"1\" class=\"dataframe\">\n",
       "  <thead>\n",
       "    <tr style=\"text-align: right;\">\n",
       "      <th></th>\n",
       "      <th>Sex</th>\n",
       "      <th>Length</th>\n",
       "      <th>Diameter</th>\n",
       "      <th>Height</th>\n",
       "      <th>Whole_weight</th>\n",
       "      <th>Shucked_weight</th>\n",
       "      <th>Viscera_weight</th>\n",
       "      <th>Shell_weight</th>\n",
       "    </tr>\n",
       "  </thead>\n",
       "  <tbody>\n",
       "    <tr>\n",
       "      <th>0</th>\n",
       "      <td>M</td>\n",
       "      <td>0.455</td>\n",
       "      <td>0.365</td>\n",
       "      <td>0.095</td>\n",
       "      <td>0.5140</td>\n",
       "      <td>0.2245</td>\n",
       "      <td>0.1010</td>\n",
       "      <td>0.1500</td>\n",
       "    </tr>\n",
       "    <tr>\n",
       "      <th>1</th>\n",
       "      <td>M</td>\n",
       "      <td>0.350</td>\n",
       "      <td>0.265</td>\n",
       "      <td>0.090</td>\n",
       "      <td>0.2255</td>\n",
       "      <td>0.0995</td>\n",
       "      <td>0.0485</td>\n",
       "      <td>0.0700</td>\n",
       "    </tr>\n",
       "    <tr>\n",
       "      <th>2</th>\n",
       "      <td>F</td>\n",
       "      <td>0.530</td>\n",
       "      <td>0.420</td>\n",
       "      <td>0.135</td>\n",
       "      <td>0.6770</td>\n",
       "      <td>0.2565</td>\n",
       "      <td>0.1415</td>\n",
       "      <td>0.2100</td>\n",
       "    </tr>\n",
       "    <tr>\n",
       "      <th>3</th>\n",
       "      <td>M</td>\n",
       "      <td>0.440</td>\n",
       "      <td>0.365</td>\n",
       "      <td>0.125</td>\n",
       "      <td>0.5160</td>\n",
       "      <td>0.2155</td>\n",
       "      <td>0.1140</td>\n",
       "      <td>0.1550</td>\n",
       "    </tr>\n",
       "    <tr>\n",
       "      <th>4</th>\n",
       "      <td>I</td>\n",
       "      <td>0.330</td>\n",
       "      <td>0.255</td>\n",
       "      <td>0.080</td>\n",
       "      <td>0.2050</td>\n",
       "      <td>0.0895</td>\n",
       "      <td>0.0395</td>\n",
       "      <td>0.0550</td>\n",
       "    </tr>\n",
       "    <tr>\n",
       "      <th>...</th>\n",
       "      <td>...</td>\n",
       "      <td>...</td>\n",
       "      <td>...</td>\n",
       "      <td>...</td>\n",
       "      <td>...</td>\n",
       "      <td>...</td>\n",
       "      <td>...</td>\n",
       "      <td>...</td>\n",
       "    </tr>\n",
       "    <tr>\n",
       "      <th>4172</th>\n",
       "      <td>F</td>\n",
       "      <td>0.565</td>\n",
       "      <td>0.450</td>\n",
       "      <td>0.165</td>\n",
       "      <td>0.8870</td>\n",
       "      <td>0.3700</td>\n",
       "      <td>0.2390</td>\n",
       "      <td>0.2490</td>\n",
       "    </tr>\n",
       "    <tr>\n",
       "      <th>4173</th>\n",
       "      <td>M</td>\n",
       "      <td>0.590</td>\n",
       "      <td>0.440</td>\n",
       "      <td>0.135</td>\n",
       "      <td>0.9660</td>\n",
       "      <td>0.4390</td>\n",
       "      <td>0.2145</td>\n",
       "      <td>0.2605</td>\n",
       "    </tr>\n",
       "    <tr>\n",
       "      <th>4174</th>\n",
       "      <td>M</td>\n",
       "      <td>0.600</td>\n",
       "      <td>0.475</td>\n",
       "      <td>0.205</td>\n",
       "      <td>1.1760</td>\n",
       "      <td>0.5255</td>\n",
       "      <td>0.2875</td>\n",
       "      <td>0.3080</td>\n",
       "    </tr>\n",
       "    <tr>\n",
       "      <th>4175</th>\n",
       "      <td>F</td>\n",
       "      <td>0.625</td>\n",
       "      <td>0.485</td>\n",
       "      <td>0.150</td>\n",
       "      <td>1.0945</td>\n",
       "      <td>0.5310</td>\n",
       "      <td>0.2610</td>\n",
       "      <td>0.2960</td>\n",
       "    </tr>\n",
       "    <tr>\n",
       "      <th>4176</th>\n",
       "      <td>M</td>\n",
       "      <td>0.710</td>\n",
       "      <td>0.555</td>\n",
       "      <td>0.195</td>\n",
       "      <td>1.9485</td>\n",
       "      <td>0.9455</td>\n",
       "      <td>0.3765</td>\n",
       "      <td>0.4950</td>\n",
       "    </tr>\n",
       "  </tbody>\n",
       "</table>\n",
       "<p>4177 rows × 8 columns</p>\n",
       "</div>"
      ],
      "text/plain": [
       "     Sex  Length  Diameter  Height  Whole_weight  Shucked_weight  \\\n",
       "0      M   0.455     0.365   0.095        0.5140          0.2245   \n",
       "1      M   0.350     0.265   0.090        0.2255          0.0995   \n",
       "2      F   0.530     0.420   0.135        0.6770          0.2565   \n",
       "3      M   0.440     0.365   0.125        0.5160          0.2155   \n",
       "4      I   0.330     0.255   0.080        0.2050          0.0895   \n",
       "...   ..     ...       ...     ...           ...             ...   \n",
       "4172   F   0.565     0.450   0.165        0.8870          0.3700   \n",
       "4173   M   0.590     0.440   0.135        0.9660          0.4390   \n",
       "4174   M   0.600     0.475   0.205        1.1760          0.5255   \n",
       "4175   F   0.625     0.485   0.150        1.0945          0.5310   \n",
       "4176   M   0.710     0.555   0.195        1.9485          0.9455   \n",
       "\n",
       "      Viscera_weight  Shell_weight  \n",
       "0             0.1010        0.1500  \n",
       "1             0.0485        0.0700  \n",
       "2             0.1415        0.2100  \n",
       "3             0.1140        0.1550  \n",
       "4             0.0395        0.0550  \n",
       "...              ...           ...  \n",
       "4172          0.2390        0.2490  \n",
       "4173          0.2145        0.2605  \n",
       "4174          0.2875        0.3080  \n",
       "4175          0.2610        0.2960  \n",
       "4176          0.3765        0.4950  \n",
       "\n",
       "[4177 rows x 8 columns]"
      ]
     },
     "execution_count": 9,
     "metadata": {},
     "output_type": "execute_result"
    }
   ],
   "source": [
    "#Show data\n",
    "abalone"
   ]
  },
  {
   "cell_type": "code",
   "execution_count": 29,
   "id": "e585d08f-94ae-46a3-afd4-a25018e7de4e",
   "metadata": {
    "tags": []
   },
   "outputs": [],
   "source": [
    "#Implement multivariate linear regression, find coefficient that will allow me to input an x to give me its y\n",
    "#𝑌 = 𝑋𝐵 + 𝐸\n",
    "\n",
    "#Define features and target\n",
    "X=abalone[['Length','Diameter','Height']].to_numpy()\n",
    "Y=abalone[['Whole_weight','Shucked_weight']].to_numpy()\n",
    "#Find coefficient matrix (B)\n",
    "#Using formular from ppt\n"
   ]
  },
  {
   "cell_type": "code",
   "execution_count": 30,
   "id": "a8fb08df-e077-41da-82f3-e0981fa50100",
   "metadata": {
    "tags": []
   },
   "outputs": [
    {
     "data": {
      "text/plain": [
       "(4177, 3)"
      ]
     },
     "execution_count": 30,
     "metadata": {},
     "output_type": "execute_result"
    }
   ],
   "source": [
    "X.shape"
   ]
  },
  {
   "cell_type": "code",
   "execution_count": 31,
   "id": "e9cae145-25c9-479b-a7bb-a3cc2a3feb05",
   "metadata": {},
   "outputs": [
    {
     "name": "stdout",
     "output_type": "stream",
     "text": [
      "(3, 4177)\n"
     ]
    }
   ],
   "source": [
    "#TransposeX\n",
    "XT = np.transpose(X)  # or matrix.T\n",
    "print(XT.shape)"
   ]
  },
  {
   "cell_type": "code",
   "execution_count": 27,
   "id": "235e00b7-809f-4254-9a38-3010fc41cf81",
   "metadata": {
    "tags": []
   },
   "outputs": [
    {
     "data": {
      "text/plain": [
       "(3, 4177)"
      ]
     },
     "execution_count": 27,
     "metadata": {},
     "output_type": "execute_result"
    }
   ],
   "source": [
    "XT.shape"
   ]
  },
  {
   "cell_type": "code",
   "execution_count": 33,
   "id": "65f39e10-b048-4bc9-b52b-6deb1a01f613",
   "metadata": {
    "tags": []
   },
   "outputs": [
    {
     "data": {
      "text/plain": [
       "(3, 3)"
      ]
     },
     "execution_count": 33,
     "metadata": {},
     "output_type": "execute_result"
    }
   ],
   "source": [
    "#Multiply XT by X\n",
    "\n",
    "result_matrix = np.dot(XT, X)\n",
    "result_matrix.shape"
   ]
  },
  {
   "cell_type": "code",
   "execution_count": 34,
   "id": "af97e1e2-4c41-4447-8214-a9fa43702a9a",
   "metadata": {
    "tags": []
   },
   "outputs": [],
   "source": [
    "# Find the inverse of the matrix you calculated in the last step\n",
    "\n",
    "inverse_XTX = np.linalg.inv(result_matrix)"
   ]
  },
  {
   "cell_type": "code",
   "execution_count": 38,
   "id": "65ad94c0-04b5-432c-8418-970d4b2a69c4",
   "metadata": {
    "tags": []
   },
   "outputs": [],
   "source": [
    "result_matrix1 = np.dot(inverse_XTX, XT)"
   ]
  },
  {
   "cell_type": "code",
   "execution_count": 39,
   "id": "b6d7ed84-ed15-47be-be39-3cf0ef94258e",
   "metadata": {
    "tags": []
   },
   "outputs": [
    {
     "data": {
      "text/plain": [
       "(3, 2)"
      ]
     },
     "execution_count": 39,
     "metadata": {},
     "output_type": "execute_result"
    }
   ],
   "source": [
    "# Multiply XT by Y\n",
    "\n",
    "coefficients = np.dot(result_matrix1, Y)\n",
    "coefficients.shape"
   ]
  },
  {
   "cell_type": "code",
   "execution_count": 20,
   "id": "1566828e-3788-4cac-9844-17d94f496902",
   "metadata": {
    "tags": []
   },
   "outputs": [
    {
     "ename": "ValueError",
     "evalue": "shapes (3,2) and (3,3) not aligned: 2 (dim 1) != 3 (dim 0)",
     "output_type": "error",
     "traceback": [
      "\u001b[0;31m---------------------------------------------------------------------------\u001b[0m",
      "\u001b[0;31mValueError\u001b[0m                                Traceback (most recent call last)",
      "Cell \u001b[0;32mIn[20], line 3\u001b[0m\n\u001b[1;32m      1\u001b[0m \u001b[38;5;66;03m# Multiply the inverse matrix you found by the result_matrix1\u001b[39;00m\n\u001b[0;32m----> 3\u001b[0m coefficients\u001b[38;5;241m=\u001b[39m np\u001b[38;5;241m.\u001b[39mdot(result_matrix1,inverse_XTX)\n",
      "File \u001b[0;32m<__array_function__ internals>:200\u001b[0m, in \u001b[0;36mdot\u001b[0;34m(*args, **kwargs)\u001b[0m\n",
      "\u001b[0;31mValueError\u001b[0m: shapes (3,2) and (3,3) not aligned: 2 (dim 1) != 3 (dim 0)"
     ]
    }
   ],
   "source": [
    "# Multiply the inverse matrix you found by the result_matrix1\n",
    "# QUESTION FOR ILIA, BECAUSE THE MATRIX SIZE, THEY CAN'T NE MULTIPLIED!!!!!\n",
    "\n",
    "coefficients= np.dot(result_matrix1,inverse_XTX)"
   ]
  },
  {
   "cell_type": "code",
   "execution_count": 41,
   "id": "c4be7896-f463-4c63-8fba-b5a9607a4f48",
   "metadata": {
    "tags": []
   },
   "outputs": [
    {
     "ename": "NameError",
     "evalue": "name 'coefficientes' is not defined",
     "output_type": "error",
     "traceback": [
      "\u001b[0;31m---------------------------------------------------------------------------\u001b[0m",
      "\u001b[0;31mNameError\u001b[0m                                 Traceback (most recent call last)",
      "Cell \u001b[0;32mIn[41], line 1\u001b[0m\n\u001b[0;32m----> 1\u001b[0m \u001b[38;5;28mprint\u001b[39m(coefficientes)\n",
      "\u001b[0;31mNameError\u001b[0m: name 'coefficientes' is not defined"
     ]
    }
   ],
   "source": [
    "#Ask help for plotting\n",
    "\n",
    "print(coefficientes)"
   ]
  },
  {
   "cell_type": "markdown",
   "id": "9a9890d2-c705-4edf-94d6-32a2466a0785",
   "metadata": {},
   "source": [
    "**2. Markov Chain Task**"
   ]
  },
  {
   "cell_type": "markdown",
   "id": "697a0841-53f8-494c-9260-63a8467f9495",
   "metadata": {},
   "source": []
  },
  {
   "cell_type": "markdown",
   "id": "ce1a6bbd-fef0-41f4-a243-a16d73f66918",
   "metadata": {},
   "source": []
  },
  {
   "cell_type": "code",
   "execution_count": 13,
   "id": "681cbb85-5c16-42a4-843a-0c01d2f111a5",
   "metadata": {
    "tags": []
   },
   "outputs": [
    {
     "name": "stderr",
     "output_type": "stream",
     "text": [
      "[nltk_data] Downloading package punkt to\n",
      "[nltk_data]     /Users/mclevesluna/nltk_data...\n",
      "[nltk_data]   Package punkt is already up-to-date!\n"
     ]
    },
    {
     "data": {
      "text/plain": [
       "True"
      ]
     },
     "execution_count": 13,
     "metadata": {},
     "output_type": "execute_result"
    }
   ],
   "source": []
  },
  {
   "cell_type": "code",
   "execution_count": 14,
   "id": "f40196d9-0202-4456-8d4a-ca7d88550d9e",
   "metadata": {
    "tags": []
   },
   "outputs": [
    {
     "name": "stdout",
     "output_type": "stream",
     "text": [
      "['woman', 'for', 'a', 'long', 'time', 'beware', 'my', 'sisters', 'witches', 'in', 'dahomey', 'wear', 'me', 'inside', 'their', 'coiled', 'cloths', 'as', 'my', 'magic']\n"
     ]
    }
   ],
   "source": []
  },
  {
   "cell_type": "code",
   "execution_count": null,
   "id": "92103f57-05bd-467f-a038-dbb921310508",
   "metadata": {},
   "outputs": [],
   "source": []
  }
 ],
 "metadata": {
  "kernelspec": {
   "display_name": "Python 3 (ipykernel)",
   "language": "python",
   "name": "python3"
  },
  "language_info": {
   "codemirror_mode": {
    "name": "ipython",
    "version": 3
   },
   "file_extension": ".py",
   "mimetype": "text/x-python",
   "name": "python",
   "nbconvert_exporter": "python",
   "pygments_lexer": "ipython3",
   "version": "3.11.5"
  }
 },
 "nbformat": 4,
 "nbformat_minor": 5
}
