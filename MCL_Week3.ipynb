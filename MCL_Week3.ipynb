{
 "cells": [
  {
   "cell_type": "markdown",
   "id": "230dda1b-a2e4-4911-b23f-33a304a7a320",
   "metadata": {},
   "source": [
    "# Algorithms&Complexity - In Class Assignments (Week 3)\n",
    "## Greedy Algorithms\n",
    "**Manuela Cleves**"
   ]
  },
  {
   "cell_type": "markdown",
   "id": "0645163f-9487-4c42-b81e-815ce7f4f113",
   "metadata": {},
   "source": [
    "**1. Let’s use Dijkstra’s algorithms.** \n",
    "Assume that we want to travel the **longest** possible route.\n",
    "\n",
    "Problem: Find the longest path from the node 𝑠 to every other node in the weighted directed acyclic graph 𝐺=(𝑉,𝐸). Weights of all edges are ≥0."
   ]
  },
  {
   "cell_type": "markdown",
   "id": "6e453ec3-2d57-417e-9940-4c1ba2aba60b",
   "metadata": {},
   "source": [
    "**Usual process for Dijkstra's Algorithm:**\n",
    "\n",
    "**Problem:** Find the shortest path from the node 𝑠 to every other node in the weighted graph 𝐺=(𝑉,𝐸).\n",
    "Weights of all edges are >0.\n",
    "\n",
    "- Mark the base node with a distance of zero and mark it as the current node.\n",
    "- Find all nodes connected to the current node. Calculate the shortest distance between them and the base node. Don’t record these distances if they are longer than a previously recorded distances.\n",
    "- Mark the current node as visited.\n",
    "- Mark the unvisited node with the shortest distance to the base node as current. Go to step 2.\n",
    "- If all nodes are visited stop the algorithm.\n",
    "\n",
    "Complexity of this algorithm is Θ(𝑉^2) and Θ(𝐸+𝑉 log⁡𝑉) if you use min heap or Fibonacci heap to store un-visited nodes. "
   ]
  },
  {
   "cell_type": "markdown",
   "id": "e242cd20-04c2-4cd6-9229-179a38105c3b",
   "metadata": {},
   "source": [
    "**Visualization for future reference:** https://www.youtube.com/watch?v=wtdtkJgcYUM"
   ]
  },
  {
   "cell_type": "code",
   "execution_count": 10,
   "id": "b0346c56-207f-46d0-a144-4e7aa077de66",
   "metadata": {
    "tags": []
   },
   "outputs": [
    {
     "name": "stdout",
     "output_type": "stream",
     "text": [
      "Longest Paths from s: {'s': 0, 'a': -2, 'b': -3, 'c': -4}\n"
     ]
    }
   ],
   "source": [
    "def longest_route(graph, start):\n",
    "    # Transform weights into their negative values (this way the shortest route becomes the longes)\n",
    "    negative_graph = {node: {neighbor: -weight for neighbor, weight in neighbors.items()} for node, neighbors in graph.items()}\n",
    "\n",
    "    # Initialize distances with negative infinity for all nodes\n",
    "    distances = {node: float('-inf') for node in graph}\n",
    "    distances[start] = 0\n",
    "\n",
    "    # Queue for Dijkstra's algorithm\n",
    "    queue = [(0, start)]\n",
    "\n",
    "    while queue:\n",
    "        current_distance, current_node = min(queue)\n",
    "\n",
    "        # Remove the current node from the ueue\n",
    "        queue.remove((current_distance, current_node))\n",
    "\n",
    "        # If the node has been visited before with a longer distance, skip\n",
    "        if current_distance < distances[current_node]:\n",
    "            continue\n",
    "\n",
    "        # Update distances to neighbors\n",
    "        for neighbor, weight in negative_graph[current_node].items():\n",
    "            distance = current_distance + weight\n",
    "\n",
    "            # If a shorter path is found, update the distance\n",
    "            if distance > distances[neighbor]:\n",
    "                distances[neighbor] = distance\n",
    "                queue.append((distance, neighbor))\n",
    "\n",
    "    return distances\n",
    "\n",
    "# Example usage\n",
    "# Create our graph with nodes that are represented by letters ('s', 'a', 'b', 'c'), and each node has outgoing edges to other nodes with associated weights.\n",
    "graph = {\n",
    "    's': {'a': 2, 'b': 3},\n",
    "    'a': {'b': 1, 'c': 4},\n",
    "    'b': {'c': 1},\n",
    "    'c': {}\n",
    "}\n",
    "\n",
    "start_node='s'\n",
    "longest = longest_route(graph, start_node)\n",
    "\n",
    "#Print function that lets us know the longest possible path from 's' to each other node in the graph\n",
    "print(\"Longest Paths from {}: {}\".format(start_node, longest))\n"
   ]
  },
  {
   "cell_type": "markdown",
   "id": "40def384-3046-4b99-8eff-a715d199ca58",
   "metadata": {},
   "source": [
    "**2. Problem: Given a set of coins, find the minimum number of coins which would equate to the input value.**\n",
    "\n",
    "Input:  C={𝑐_1,𝑐_2,…,𝑐_𝑛} – list of coins in the cash register, 𝑉 – input value.\n"
   ]
  },
  {
   "cell_type": "code",
   "execution_count": 1,
   "id": "3b745af4-82dc-4d9c-960c-ac81a6e1c20d",
   "metadata": {},
   "outputs": [
    {
     "name": "stdout",
     "output_type": "stream",
     "text": [
      "Minimim number of coins: 4\n"
     ]
    }
   ],
   "source": [
    "def coin_calculator(coins,value):\n",
    "    #First, sort the coins\n",
    "    coins.sort(reverse=True)\n",
    "    #Initialize parameters\n",
    "    remaining_value=value\n",
    "    coins_in=0\n",
    "    \n",
    "    #Now, to count the coins\n",
    "    for coin in coins:\n",
    "        #Count the coins of the current value\n",
    "        number_coins=remaining_value//coin\n",
    "        #Recalculate value\n",
    "        remaining_value%=coin\n",
    "        #Update total coins in\n",
    "        coins_in+=number_coins\n",
    "        \n",
    "        if remaining_value==0:\n",
    "            break\n",
    "    return coins_in\n",
    "\n",
    "#Example\n",
    "\n",
    "C=[25, 25, 5, 5, 1]\n",
    "value=100\n",
    "\n",
    "result = coin_calculator (C,value)\n",
    "\n",
    "print (\"Minimim number of coins:\", result)"
   ]
  },
  {
   "cell_type": "code",
   "execution_count": null,
   "id": "b1b251f4-8773-4cdb-8497-cdec9902b880",
   "metadata": {},
   "outputs": [],
   "source": []
  }
 ],
 "metadata": {
  "kernelspec": {
   "display_name": "Python 3 (ipykernel)",
   "language": "python",
   "name": "python3"
  },
  "language_info": {
   "codemirror_mode": {
    "name": "ipython",
    "version": 3
   },
   "file_extension": ".py",
   "mimetype": "text/x-python",
   "name": "python",
   "nbconvert_exporter": "python",
   "pygments_lexer": "ipython3",
   "version": "3.11.5"
  }
 },
 "nbformat": 4,
 "nbformat_minor": 5
}
